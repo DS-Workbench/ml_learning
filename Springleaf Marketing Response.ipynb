{
 "cells": [
  {
   "cell_type": "code",
   "execution_count": 3,
   "metadata": {},
   "outputs": [],
   "source": [
    "import os"
   ]
  },
  {
   "cell_type": "code",
   "execution_count": 1,
   "metadata": {
    "tags": []
   },
   "outputs": [
    {
     "name": "stdout",
     "output_type": "stream",
     "text": [
      "Warning: Your Kaggle API key is readable by other users on this system! To fix this, you can run 'chmod 600 /Users/dimitriosntakoulas/.kaggle/kaggle.json'\n",
      "name                        size  creationDate         \n",
      "-------------------------  -----  -------------------  \n",
      "test.csv.zip               150MB  2018-05-13 07:07:07  \n",
      "train.csv.zip              150MB  2018-05-13 07:07:07  \n",
      "sample_submission.csv.zip  205KB  2018-05-13 07:07:07  \n"
     ]
    }
   ],
   "source": [
    "#Test kaggle CLI and list competition files \n",
    "! kaggle competitions files springleaf-marketing-response"
   ]
  },
  {
   "cell_type": "code",
   "execution_count": 12,
   "metadata": {},
   "outputs": [],
   "source": [
    "# you will need to accept competition rules at https://www.kaggle.com/c/<competition-name>/rules.\n",
    "def download_dataset(PATH,competition,files):\n",
    "    try:\n",
    "        os.makedirs(PATH)\n",
    "    except FileExistsError:\n",
    "    # directory already exists\n",
    "        pass\n",
    "    for file in files:\n",
    "        !kaggle competitions download -c $competition -f $file -p $PATH"
   ]
  },
  {
   "cell_type": "code",
   "execution_count": 13,
   "metadata": {},
   "outputs": [
    {
     "name": "stdout",
     "output_type": "stream",
     "text": [
      "Warning: Your Kaggle API key is readable by other users on this system! To fix this, you can run 'chmod 600 /Users/dimitriosntakoulas/.kaggle/kaggle.json'\n",
      "Downloading test.csv.zip to ./Data\n",
      "100%|████████████████████████████████████████| 150M/150M [00:19<00:00, 8.50MB/s]\n",
      "100%|████████████████████████████████████████| 150M/150M [00:19<00:00, 7.97MB/s]\n",
      "Warning: Your Kaggle API key is readable by other users on this system! To fix this, you can run 'chmod 600 /Users/dimitriosntakoulas/.kaggle/kaggle.json'\n",
      "Downloading train.csv.zip to ./Data\n",
      "100%|████████████████████████████████████████| 150M/150M [00:18<00:00, 8.52MB/s]\n",
      "100%|████████████████████████████████████████| 150M/150M [00:18<00:00, 8.36MB/s]\n"
     ]
    }
   ],
   "source": [
    "download_dataset('./Data','springleaf-marketing-response', ['test.csv.zip','train.csv.zip'])"
   ]
  },
  {
   "cell_type": "code",
   "execution_count": null,
   "metadata": {},
   "outputs": [],
   "source": []
  }
 ],
 "metadata": {
  "kernelspec": {
   "display_name": "Python 3",
   "language": "python",
   "name": "python3"
  },
  "language_info": {
   "codemirror_mode": {
    "name": "ipython",
    "version": 3
   },
   "file_extension": ".py",
   "mimetype": "text/x-python",
   "name": "python",
   "nbconvert_exporter": "python",
   "pygments_lexer": "ipython3",
   "version": "3.8.5"
  }
 },
 "nbformat": 4,
 "nbformat_minor": 4
}
